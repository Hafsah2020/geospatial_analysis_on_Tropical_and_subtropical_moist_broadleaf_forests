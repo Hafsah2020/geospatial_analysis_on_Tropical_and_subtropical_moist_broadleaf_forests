{
 "cells": [
  {
   "cell_type": "markdown",
   "id": "tS9VD8xBFU0p",
   "metadata": {
    "id": "tS9VD8xBFU0p"
   },
   "source": [
    "# Aim of Analysis\n",
    "\n",
    "Pick your favourite  forest and analyse and share your findings\n",
    "\n",
    "Following the analysis guidelines from the data analysis repo,\n",
    "\n",
    "I will make global anlysis first then narrow my analysis to regional analysis\n",
    "\n",
    "In the global analysis I did the following:\n",
    "\n",
    "* [Visualised to see all the types of forests in the world and their locations from the data](#Forests-in-the-world)\n",
    "* I picked interest in the tropical dry forests and analysed the data to see the following properties of tropical dry forests in the world:\n",
    "    * [Agroecological zones](#AgroEcological-zones-of-forest)\n",
    "    * [Biomes](#Terrestial-Ecoregions)\n",
    "    * [Climate](#Climate)\n",
    "    * [Soil resources](#Soil)\n",
    "    * [Water scarcity](#-scarcity)\n",
    "    * [Land resource dominance](#Land-resource-dominant-cover)\n",
    "    * [Soil Resource Nutrient Avilability](#Soil-Resource-Nutrient-Avilability)\n",
    "    * [Terrain sustainability](#Terrain-sustainability)\n",
    "    * [Rooting conditions](#Rooting-conditions)"
   ]
  },
  {
   "cell_type": "markdown",
   "id": "ceaa2826",
   "metadata": {},
   "source": [
    "# **DATASETS DESCTRIPTION**\n",
    "\n",
    "> The datasets is gotten from the data library [here](https://datasets.mojaglobal.workers.dev/0:/)\n",
    "\n",
    "1. **Bioclimatic & Ecological Zones**\n",
    "\n",
    "  * `bio` - **Holdridge Life Zones** (data source: HoldridgeLifeZones.json)\n",
    "  * `tropical_dry_forest` - **Tropical forests** (data source: filtered from bio geodatframe)\n",
    "  * `agros` - **Global AgroEcological Zones** (data source: GlobalAgroEcologicalZones_GAEZ.geojson)\n",
    "  * `terreco_df` - **Terrestrial Ecoregions of the World** (data source: TerrestrialEcoregionsoftheWorld_WWF.geojson)\n",
    "  * `terreco` - **Terrestrial Ecoregions of tropical dry forests** ( data source: clipped from terreco_df)\n",
    "  * `rst_water` - **Water Scarcity** (data source: WaterScarcity_GAEZ.tif)\n",
    "  * `rst_dom` - **Land Resource Dominant Land Cover** (data source: LandResource_DomLandCover_GAEZ.tif)\n",
    "  * `nutrient` - **Soil Resources Nutrient Availability** (data source: SoilResources_NutrientAvailability_GAEZ.tif)\n",
    "  * `terrsuit` - **Soil Resources Rainfed Soil Terrain Suitability**(data source: SoilResources_RainfedSoilTerrainSuitability_GAEZ.tif)\n",
    "  * `rst_root` - **Soil Resources Rooting Conditions** (SoilResources_RootingConditions_GAEZ.tif)\n",
    "\n",
    "2. **Climate**\n",
    "  * `climates` - **IPCC Climate Zone map vector** (data source: IPCC_ClimateZoneMap_Vector.geojson)\n",
    "\n",
    "3. **Soil**\n",
    "  * `soil` - **World soil resource map** (data source: World Soil Resources/World_Soil_Resources_wgs84.geojson)\n"
   ]
  },
  {
   "cell_type": "code",
   "execution_count": 1,
   "id": "1b9f6293",
   "metadata": {},
   "outputs": [],
   "source": [
    "#import necessary libraries\n",
    "\n",
    "import geopandas as gpd\n",
    "import pandas as pd\n",
    "import numpy as np\n",
    "import matplotlib.pyplot as plt\n",
    "import seaborn as sns\n",
    "import requests\n",
    "import folium\n",
    "import rasterio as rst\n",
    "import earthpy as ep\n",
    "import warnings\n",
    "warnings.filterwarnings('ignore')\n",
    "import rasterio.plot\n",
    "import earthpy.plot"
   ]
  },
  {
   "cell_type": "code",
   "execution_count": 2,
   "id": "91a7f455",
   "metadata": {
    "executionInfo": {
     "elapsed": 395,
     "status": "ok",
     "timestamp": 1666100493475,
     "user": {
      "displayName": "Hafsah Anibaba",
      "userId": "01470588845528930260"
     },
     "user_tz": -60
    },
    "id": "91a7f455"
   },
   "outputs": [],
   "source": [
    "class Read():\n",
    "    \n",
    "    \"\"\"\n",
    "    A class used to read and clean data \n",
    "\n",
    "    ...\n",
    "\n",
    "    Attributes\n",
    "    ----------\n",
    "    url : str\n",
    "        the link or path to the file\n",
    "    columns : list\n",
    "        The column so retrieve from the data\n",
    "\n",
    "    Methods\n",
    "    -------\n",
    "    retrieve(json = False)\n",
    "        fetches data from the internet\n",
    "    \"\"\"\n",
    "\n",
    "\n",
    "    def __init__(self, url, columns = None):\n",
    "        \"\"\"\n",
    "        Parameters\n",
    "        ----------\n",
    "        \n",
    "        url : str\n",
    "            the link or path to the file\n",
    "        sound : list\n",
    "            The column so retrieve from the data\n",
    "        \"\"\"\n",
    "        self.url = url\n",
    "        self.columns = columns\n",
    "        \n",
    "    def retrieve_data(self, json):\n",
    "        \"\"\"fetches data from the internet\n",
    "         Parameters\n",
    "        ----------\n",
    "        \n",
    "        json : bool\n",
    "            If the file is of json format\n",
    "        \"\"\"\n",
    "        self.req = requests.get(self.url)\n",
    "        if json:\n",
    "            #if data is of json format, convert it to string\n",
    "            self.req = str(self.req.text)\n",
    "        else:\n",
    "            self.req = self.req.content\n",
    "        return self.req\n",
    "\n",
    "    def wrangle(self,online = False, replace_values = False, column_to_change = None,\n",
    "               old_values = None, new_values = None, filter_columns = False):\n",
    "        \"\"\"Read in and wrangle data\n",
    "         Parameters\n",
    "        ----------\n",
    "        \n",
    "        online : bool\n",
    "            If the data is retrieved from the internet\n",
    "        replace_values : bool\n",
    "            if values in the data should be changed\n",
    "        column_to_change: str\n",
    "            column of values to change\n",
    "        old_values : list\n",
    "            the original values in the data\n",
    "        new_values : list\n",
    "            the new values to change initial values to\n",
    "        filter_columns : bool\n",
    "            if to select columns based on columns passed to the class constructor\n",
    "        \"\"\"\n",
    "        if online:\n",
    "            self.url = self.req\n",
    "        #read in file\n",
    "        self.df = gpd.read_file(self.url)\n",
    "        #replace blank, unknown values with numpy.nan\n",
    "        self.df = self.df.replace(['n/a', 'Unknown', ' '], np.nan)\n",
    "        #make columns lower case\n",
    "        self.df.columns = self.df.columns.str.lower()\n",
    "        if replace_values:\n",
    "            self.df[column_to_change] = self.df[column_to_change].replace(old_values, new_values)\n",
    "        if filter_columns:\n",
    "            self.df = self.df[self.columns]\n",
    "        #drop missing values\n",
    "        self.df = self.df.dropna()\n",
    "        #set coordinate reference system to 4326\n",
    "        self.df.geometry = self.df.geometry.to_crs(4326)\n",
    "        #Extract centroid\n",
    "        self.df['centroid'] = self.df.geometry.centroid\n",
    "        return self.df"
   ]
  },
  {
   "cell_type": "code",
   "execution_count": 3,
   "id": "1643e1bf",
   "metadata": {},
   "outputs": [],
   "source": [
    "def folium_plot(title, data, column_name):\n",
    "    \"\"\"\n",
    "     Make folium map showing location of forests\n",
    "        Parameters\n",
    "        ----------\n",
    "        \n",
    "        title : str\n",
    "            title of visualization\n",
    "        data : GeoDataFrame\n",
    "            The data on forests to plot on the map\n",
    "        column_name : str\n",
    "            The name of the column in data based on which data is plotted on the folium map\n",
    "\"\"\"\n",
    "    loc = title\n",
    "    title_html = '''\n",
    "                     <h3 align=\"center\" style=\"font-size:16px\"><b>{}</b></h3>\n",
    "                 '''.format(loc)   \n",
    "\n",
    "    m = folium.Map(location=[-8.7832, 34.5085], zoom_start=1.5, tiles='CartoDB positron',\n",
    "                   min_zoom = 1.5, max_zoom = 2)\n",
    "\n",
    "    for _, r in data.iterrows():\n",
    "        # Without simplifying the representation of each area,\n",
    "        # the map might not be displayed\n",
    "        sim_geo = gpd.GeoSeries(r['geometry']).simplify(tolerance=0.001)\n",
    "        geo_j = sim_geo.to_json()\n",
    "        geo_j = folium.GeoJson(data=geo_j,\n",
    "                               style_function=lambda x: {'fillColor': 'orange'})\n",
    "        folium.Popup(r[column_name]).add_to(geo_j)\n",
    "        geo_j.add_to(m)\n",
    "\n",
    "    m.get_root().html.add_child(folium.Element(title_html))\n",
    "    return m"
   ]
  },
  {
   "cell_type": "code",
   "execution_count": 4,
   "id": "6e1910b4",
   "metadata": {},
   "outputs": [],
   "source": [
    "def plot_within(data, column, title, ncol):\n",
    "    \"\"\"\n",
    "     return map on forests characteristics based on data\n",
    "        Parameters\n",
    "        ----------\n",
    "        \n",
    "        title : str\n",
    "            title of visualization\n",
    "        data : GeoDataFrame\n",
    "            The data on charactersistics (such as soil type e.t.c)\n",
    "        column_name : str\n",
    "            The name of the column in data based on which data is plotted\n",
    "        \"\"\"\n",
    "    ax = data.plot(column = column,  figsize= (20, 8), legend = True, cmap = 'YlOrRd',\n",
    "                        legend_kwds = {'ncol': ncol, 'loc' : 'center', 'bbox_to_anchor': (1.2, 0.5)})\n",
    "    tropical_dry_forest.plot(ax = ax, color = 'black')\n",
    "    plt.title(title);"
   ]
  },
  {
   "cell_type": "code",
   "execution_count": 5,
   "id": "56563c6d",
   "metadata": {},
   "outputs": [],
   "source": [
    "def plot_number(data, column, title):\n",
    "    \"\"\"\n",
    "     return barplot on counts to show most occuring characteristics nof tropicqal dry forests\n",
    "        Parameters\n",
    "        ----------\n",
    "        \n",
    "        title : str\n",
    "            title of visualization\n",
    "        data : GeoDataFrame\n",
    "            The data on chjaracteristics of forests to plot \n",
    "        column : str\n",
    "            The name of the column in data based on which data is plotted on the folium map\n",
    "        \"\"\"\n",
    "    gdf = gpd.clip(data, tropical_dry_forest)\n",
    "    values = gdf[column].value_counts().to_list()\n",
    "    zones = gdf[column].value_counts().index.to_list()\n",
    "    sns.barplot(y = zones, x = values, color = 'brown')\n",
    "    plt.title(title,\n",
    "             fontsize = 19, pad = 2);"
   ]
  },
  {
   "cell_type": "markdown",
   "id": "L2yWlXEDCGP1",
   "metadata": {
    "id": "L2yWlXEDCGP1"
   },
   "source": [
    "# **Global Analysis**"
   ]
  },
  {
   "cell_type": "markdown",
   "id": "6a07c118",
   "metadata": {
    "id": "6a07c118"
   },
   "source": [
    "### Administration\n",
    "\n",
    "<b> View location and boundaries of different forests in the world </b>"
   ]
  },
  {
   "cell_type": "code",
   "execution_count": 6,
   "id": "83e7ea5e",
   "metadata": {
    "colab": {
     "base_uri": "https://localhost:8080/",
     "height": 280
    },
    "executionInfo": {
     "elapsed": 4435,
     "status": "ok",
     "timestamp": 1666094383082,
     "user": {
      "displayName": "Hafsah Anibaba",
      "userId": "01470588845528930260"
     },
     "user_tz": -60
    },
    "id": "83e7ea5e",
    "outputId": "00ca2e1e-53d2-459a-cc02-306c4f75376c"
   },
   "outputs": [
    {
     "ename": "ConnectionError",
     "evalue": "HTTPSConnectionPool(host='datasets.mojaglobal.workers.dev', port=443): Max retries exceeded with url: /0:/Bioclimatic&EcologicalZones/HoldridgeLifeZones.json (Caused by NewConnectionError('<urllib3.connection.HTTPSConnection object at 0x00000235D627A710>: Failed to establish a new connection: [Errno 11001] getaddrinfo failed'))",
     "output_type": "error",
     "traceback": [
      "\u001b[1;31m---------------------------------------------------------------------------\u001b[0m",
      "\u001b[1;31mgaierror\u001b[0m                                  Traceback (most recent call last)",
      "File \u001b[1;32m~\\anaconda3\\envs\\myenv\\lib\\site-packages\\urllib3\\connection.py:174\u001b[0m, in \u001b[0;36mHTTPConnection._new_conn\u001b[1;34m(self)\u001b[0m\n\u001b[0;32m    173\u001b[0m \u001b[38;5;28;01mtry\u001b[39;00m:\n\u001b[1;32m--> 174\u001b[0m     conn \u001b[38;5;241m=\u001b[39m connection\u001b[38;5;241m.\u001b[39mcreate_connection(\n\u001b[0;32m    175\u001b[0m         (\u001b[38;5;28mself\u001b[39m\u001b[38;5;241m.\u001b[39m_dns_host, \u001b[38;5;28mself\u001b[39m\u001b[38;5;241m.\u001b[39mport), \u001b[38;5;28mself\u001b[39m\u001b[38;5;241m.\u001b[39mtimeout, \u001b[38;5;241m*\u001b[39m\u001b[38;5;241m*\u001b[39mextra_kw\n\u001b[0;32m    176\u001b[0m     )\n\u001b[0;32m    178\u001b[0m \u001b[38;5;28;01mexcept\u001b[39;00m SocketTimeout:\n",
      "File \u001b[1;32m~\\anaconda3\\envs\\myenv\\lib\\site-packages\\urllib3\\util\\connection.py:72\u001b[0m, in \u001b[0;36mcreate_connection\u001b[1;34m(address, timeout, source_address, socket_options)\u001b[0m\n\u001b[0;32m     68\u001b[0m     \u001b[38;5;28;01mreturn\u001b[39;00m six\u001b[38;5;241m.\u001b[39mraise_from(\n\u001b[0;32m     69\u001b[0m         LocationParseError(\u001b[38;5;124mu\u001b[39m\u001b[38;5;124m\"\u001b[39m\u001b[38;5;124m'\u001b[39m\u001b[38;5;132;01m%s\u001b[39;00m\u001b[38;5;124m'\u001b[39m\u001b[38;5;124m, label empty or too long\u001b[39m\u001b[38;5;124m\"\u001b[39m \u001b[38;5;241m%\u001b[39m host), \u001b[38;5;28;01mNone\u001b[39;00m\n\u001b[0;32m     70\u001b[0m     )\n\u001b[1;32m---> 72\u001b[0m \u001b[38;5;28;01mfor\u001b[39;00m res \u001b[38;5;129;01min\u001b[39;00m \u001b[43msocket\u001b[49m\u001b[38;5;241;43m.\u001b[39;49m\u001b[43mgetaddrinfo\u001b[49m\u001b[43m(\u001b[49m\u001b[43mhost\u001b[49m\u001b[43m,\u001b[49m\u001b[43m \u001b[49m\u001b[43mport\u001b[49m\u001b[43m,\u001b[49m\u001b[43m \u001b[49m\u001b[43mfamily\u001b[49m\u001b[43m,\u001b[49m\u001b[43m \u001b[49m\u001b[43msocket\u001b[49m\u001b[38;5;241;43m.\u001b[39;49m\u001b[43mSOCK_STREAM\u001b[49m\u001b[43m)\u001b[49m:\n\u001b[0;32m     73\u001b[0m     af, socktype, proto, canonname, sa \u001b[38;5;241m=\u001b[39m res\n",
      "File \u001b[1;32m~\\anaconda3\\envs\\myenv\\lib\\socket.py:955\u001b[0m, in \u001b[0;36mgetaddrinfo\u001b[1;34m(host, port, family, type, proto, flags)\u001b[0m\n\u001b[0;32m    954\u001b[0m addrlist \u001b[38;5;241m=\u001b[39m []\n\u001b[1;32m--> 955\u001b[0m \u001b[38;5;28;01mfor\u001b[39;00m res \u001b[38;5;129;01min\u001b[39;00m \u001b[43m_socket\u001b[49m\u001b[38;5;241;43m.\u001b[39;49m\u001b[43mgetaddrinfo\u001b[49m\u001b[43m(\u001b[49m\u001b[43mhost\u001b[49m\u001b[43m,\u001b[49m\u001b[43m \u001b[49m\u001b[43mport\u001b[49m\u001b[43m,\u001b[49m\u001b[43m \u001b[49m\u001b[43mfamily\u001b[49m\u001b[43m,\u001b[49m\u001b[43m \u001b[49m\u001b[38;5;28;43mtype\u001b[39;49m\u001b[43m,\u001b[49m\u001b[43m \u001b[49m\u001b[43mproto\u001b[49m\u001b[43m,\u001b[49m\u001b[43m \u001b[49m\u001b[43mflags\u001b[49m\u001b[43m)\u001b[49m:\n\u001b[0;32m    956\u001b[0m     af, socktype, proto, canonname, sa \u001b[38;5;241m=\u001b[39m res\n",
      "\u001b[1;31mgaierror\u001b[0m: [Errno 11001] getaddrinfo failed",
      "\nDuring handling of the above exception, another exception occurred:\n",
      "\u001b[1;31mNewConnectionError\u001b[0m                        Traceback (most recent call last)",
      "File \u001b[1;32m~\\anaconda3\\envs\\myenv\\lib\\site-packages\\urllib3\\connectionpool.py:703\u001b[0m, in \u001b[0;36mHTTPConnectionPool.urlopen\u001b[1;34m(self, method, url, body, headers, retries, redirect, assert_same_host, timeout, pool_timeout, release_conn, chunked, body_pos, **response_kw)\u001b[0m\n\u001b[0;32m    702\u001b[0m \u001b[38;5;66;03m# Make the request on the httplib connection object.\u001b[39;00m\n\u001b[1;32m--> 703\u001b[0m httplib_response \u001b[38;5;241m=\u001b[39m \u001b[38;5;28;43mself\u001b[39;49m\u001b[38;5;241;43m.\u001b[39;49m\u001b[43m_make_request\u001b[49m\u001b[43m(\u001b[49m\n\u001b[0;32m    704\u001b[0m \u001b[43m    \u001b[49m\u001b[43mconn\u001b[49m\u001b[43m,\u001b[49m\n\u001b[0;32m    705\u001b[0m \u001b[43m    \u001b[49m\u001b[43mmethod\u001b[49m\u001b[43m,\u001b[49m\n\u001b[0;32m    706\u001b[0m \u001b[43m    \u001b[49m\u001b[43murl\u001b[49m\u001b[43m,\u001b[49m\n\u001b[0;32m    707\u001b[0m \u001b[43m    \u001b[49m\u001b[43mtimeout\u001b[49m\u001b[38;5;241;43m=\u001b[39;49m\u001b[43mtimeout_obj\u001b[49m\u001b[43m,\u001b[49m\n\u001b[0;32m    708\u001b[0m \u001b[43m    \u001b[49m\u001b[43mbody\u001b[49m\u001b[38;5;241;43m=\u001b[39;49m\u001b[43mbody\u001b[49m\u001b[43m,\u001b[49m\n\u001b[0;32m    709\u001b[0m \u001b[43m    \u001b[49m\u001b[43mheaders\u001b[49m\u001b[38;5;241;43m=\u001b[39;49m\u001b[43mheaders\u001b[49m\u001b[43m,\u001b[49m\n\u001b[0;32m    710\u001b[0m \u001b[43m    \u001b[49m\u001b[43mchunked\u001b[49m\u001b[38;5;241;43m=\u001b[39;49m\u001b[43mchunked\u001b[49m\u001b[43m,\u001b[49m\n\u001b[0;32m    711\u001b[0m \u001b[43m\u001b[49m\u001b[43m)\u001b[49m\n\u001b[0;32m    713\u001b[0m \u001b[38;5;66;03m# If we're going to release the connection in ``finally:``, then\u001b[39;00m\n\u001b[0;32m    714\u001b[0m \u001b[38;5;66;03m# the response doesn't need to know about the connection. Otherwise\u001b[39;00m\n\u001b[0;32m    715\u001b[0m \u001b[38;5;66;03m# it will also try to release it and we'll have a double-release\u001b[39;00m\n\u001b[0;32m    716\u001b[0m \u001b[38;5;66;03m# mess.\u001b[39;00m\n",
      "File \u001b[1;32m~\\anaconda3\\envs\\myenv\\lib\\site-packages\\urllib3\\connectionpool.py:386\u001b[0m, in \u001b[0;36mHTTPConnectionPool._make_request\u001b[1;34m(self, conn, method, url, timeout, chunked, **httplib_request_kw)\u001b[0m\n\u001b[0;32m    385\u001b[0m \u001b[38;5;28;01mtry\u001b[39;00m:\n\u001b[1;32m--> 386\u001b[0m     \u001b[38;5;28;43mself\u001b[39;49m\u001b[38;5;241;43m.\u001b[39;49m\u001b[43m_validate_conn\u001b[49m\u001b[43m(\u001b[49m\u001b[43mconn\u001b[49m\u001b[43m)\u001b[49m\n\u001b[0;32m    387\u001b[0m \u001b[38;5;28;01mexcept\u001b[39;00m (SocketTimeout, BaseSSLError) \u001b[38;5;28;01mas\u001b[39;00m e:\n\u001b[0;32m    388\u001b[0m     \u001b[38;5;66;03m# Py2 raises this as a BaseSSLError, Py3 raises it as socket timeout.\u001b[39;00m\n",
      "File \u001b[1;32m~\\anaconda3\\envs\\myenv\\lib\\site-packages\\urllib3\\connectionpool.py:1042\u001b[0m, in \u001b[0;36mHTTPSConnectionPool._validate_conn\u001b[1;34m(self, conn)\u001b[0m\n\u001b[0;32m   1041\u001b[0m \u001b[38;5;28;01mif\u001b[39;00m \u001b[38;5;129;01mnot\u001b[39;00m \u001b[38;5;28mgetattr\u001b[39m(conn, \u001b[38;5;124m\"\u001b[39m\u001b[38;5;124msock\u001b[39m\u001b[38;5;124m\"\u001b[39m, \u001b[38;5;28;01mNone\u001b[39;00m):  \u001b[38;5;66;03m# AppEngine might not have  `.sock`\u001b[39;00m\n\u001b[1;32m-> 1042\u001b[0m     \u001b[43mconn\u001b[49m\u001b[38;5;241;43m.\u001b[39;49m\u001b[43mconnect\u001b[49m\u001b[43m(\u001b[49m\u001b[43m)\u001b[49m\n\u001b[0;32m   1044\u001b[0m \u001b[38;5;28;01mif\u001b[39;00m \u001b[38;5;129;01mnot\u001b[39;00m conn\u001b[38;5;241m.\u001b[39mis_verified:\n",
      "File \u001b[1;32m~\\anaconda3\\envs\\myenv\\lib\\site-packages\\urllib3\\connection.py:358\u001b[0m, in \u001b[0;36mHTTPSConnection.connect\u001b[1;34m(self)\u001b[0m\n\u001b[0;32m    356\u001b[0m \u001b[38;5;28;01mdef\u001b[39;00m \u001b[38;5;21mconnect\u001b[39m(\u001b[38;5;28mself\u001b[39m):\n\u001b[0;32m    357\u001b[0m     \u001b[38;5;66;03m# Add certificate verification\u001b[39;00m\n\u001b[1;32m--> 358\u001b[0m     \u001b[38;5;28mself\u001b[39m\u001b[38;5;241m.\u001b[39msock \u001b[38;5;241m=\u001b[39m conn \u001b[38;5;241m=\u001b[39m \u001b[38;5;28;43mself\u001b[39;49m\u001b[38;5;241;43m.\u001b[39;49m\u001b[43m_new_conn\u001b[49m\u001b[43m(\u001b[49m\u001b[43m)\u001b[49m\n\u001b[0;32m    359\u001b[0m     hostname \u001b[38;5;241m=\u001b[39m \u001b[38;5;28mself\u001b[39m\u001b[38;5;241m.\u001b[39mhost\n",
      "File \u001b[1;32m~\\anaconda3\\envs\\myenv\\lib\\site-packages\\urllib3\\connection.py:186\u001b[0m, in \u001b[0;36mHTTPConnection._new_conn\u001b[1;34m(self)\u001b[0m\n\u001b[0;32m    185\u001b[0m \u001b[38;5;28;01mexcept\u001b[39;00m SocketError \u001b[38;5;28;01mas\u001b[39;00m e:\n\u001b[1;32m--> 186\u001b[0m     \u001b[38;5;28;01mraise\u001b[39;00m NewConnectionError(\n\u001b[0;32m    187\u001b[0m         \u001b[38;5;28mself\u001b[39m, \u001b[38;5;124m\"\u001b[39m\u001b[38;5;124mFailed to establish a new connection: \u001b[39m\u001b[38;5;132;01m%s\u001b[39;00m\u001b[38;5;124m\"\u001b[39m \u001b[38;5;241m%\u001b[39m e\n\u001b[0;32m    188\u001b[0m     )\n\u001b[0;32m    190\u001b[0m \u001b[38;5;28;01mreturn\u001b[39;00m conn\n",
      "\u001b[1;31mNewConnectionError\u001b[0m: <urllib3.connection.HTTPSConnection object at 0x00000235D627A710>: Failed to establish a new connection: [Errno 11001] getaddrinfo failed",
      "\nDuring handling of the above exception, another exception occurred:\n",
      "\u001b[1;31mMaxRetryError\u001b[0m                             Traceback (most recent call last)",
      "File \u001b[1;32m~\\anaconda3\\envs\\myenv\\lib\\site-packages\\requests\\adapters.py:489\u001b[0m, in \u001b[0;36mHTTPAdapter.send\u001b[1;34m(self, request, stream, timeout, verify, cert, proxies)\u001b[0m\n\u001b[0;32m    488\u001b[0m \u001b[38;5;28;01mif\u001b[39;00m \u001b[38;5;129;01mnot\u001b[39;00m chunked:\n\u001b[1;32m--> 489\u001b[0m     resp \u001b[38;5;241m=\u001b[39m \u001b[43mconn\u001b[49m\u001b[38;5;241;43m.\u001b[39;49m\u001b[43murlopen\u001b[49m\u001b[43m(\u001b[49m\n\u001b[0;32m    490\u001b[0m \u001b[43m        \u001b[49m\u001b[43mmethod\u001b[49m\u001b[38;5;241;43m=\u001b[39;49m\u001b[43mrequest\u001b[49m\u001b[38;5;241;43m.\u001b[39;49m\u001b[43mmethod\u001b[49m\u001b[43m,\u001b[49m\n\u001b[0;32m    491\u001b[0m \u001b[43m        \u001b[49m\u001b[43murl\u001b[49m\u001b[38;5;241;43m=\u001b[39;49m\u001b[43murl\u001b[49m\u001b[43m,\u001b[49m\n\u001b[0;32m    492\u001b[0m \u001b[43m        \u001b[49m\u001b[43mbody\u001b[49m\u001b[38;5;241;43m=\u001b[39;49m\u001b[43mrequest\u001b[49m\u001b[38;5;241;43m.\u001b[39;49m\u001b[43mbody\u001b[49m\u001b[43m,\u001b[49m\n\u001b[0;32m    493\u001b[0m \u001b[43m        \u001b[49m\u001b[43mheaders\u001b[49m\u001b[38;5;241;43m=\u001b[39;49m\u001b[43mrequest\u001b[49m\u001b[38;5;241;43m.\u001b[39;49m\u001b[43mheaders\u001b[49m\u001b[43m,\u001b[49m\n\u001b[0;32m    494\u001b[0m \u001b[43m        \u001b[49m\u001b[43mredirect\u001b[49m\u001b[38;5;241;43m=\u001b[39;49m\u001b[38;5;28;43;01mFalse\u001b[39;49;00m\u001b[43m,\u001b[49m\n\u001b[0;32m    495\u001b[0m \u001b[43m        \u001b[49m\u001b[43massert_same_host\u001b[49m\u001b[38;5;241;43m=\u001b[39;49m\u001b[38;5;28;43;01mFalse\u001b[39;49;00m\u001b[43m,\u001b[49m\n\u001b[0;32m    496\u001b[0m \u001b[43m        \u001b[49m\u001b[43mpreload_content\u001b[49m\u001b[38;5;241;43m=\u001b[39;49m\u001b[38;5;28;43;01mFalse\u001b[39;49;00m\u001b[43m,\u001b[49m\n\u001b[0;32m    497\u001b[0m \u001b[43m        \u001b[49m\u001b[43mdecode_content\u001b[49m\u001b[38;5;241;43m=\u001b[39;49m\u001b[38;5;28;43;01mFalse\u001b[39;49;00m\u001b[43m,\u001b[49m\n\u001b[0;32m    498\u001b[0m \u001b[43m        \u001b[49m\u001b[43mretries\u001b[49m\u001b[38;5;241;43m=\u001b[39;49m\u001b[38;5;28;43mself\u001b[39;49m\u001b[38;5;241;43m.\u001b[39;49m\u001b[43mmax_retries\u001b[49m\u001b[43m,\u001b[49m\n\u001b[0;32m    499\u001b[0m \u001b[43m        \u001b[49m\u001b[43mtimeout\u001b[49m\u001b[38;5;241;43m=\u001b[39;49m\u001b[43mtimeout\u001b[49m\u001b[43m,\u001b[49m\n\u001b[0;32m    500\u001b[0m \u001b[43m    \u001b[49m\u001b[43m)\u001b[49m\n\u001b[0;32m    502\u001b[0m \u001b[38;5;66;03m# Send the request.\u001b[39;00m\n\u001b[0;32m    503\u001b[0m \u001b[38;5;28;01melse\u001b[39;00m:\n",
      "File \u001b[1;32m~\\anaconda3\\envs\\myenv\\lib\\site-packages\\urllib3\\connectionpool.py:787\u001b[0m, in \u001b[0;36mHTTPConnectionPool.urlopen\u001b[1;34m(self, method, url, body, headers, retries, redirect, assert_same_host, timeout, pool_timeout, release_conn, chunked, body_pos, **response_kw)\u001b[0m\n\u001b[0;32m    785\u001b[0m     e \u001b[38;5;241m=\u001b[39m ProtocolError(\u001b[38;5;124m\"\u001b[39m\u001b[38;5;124mConnection aborted.\u001b[39m\u001b[38;5;124m\"\u001b[39m, e)\n\u001b[1;32m--> 787\u001b[0m retries \u001b[38;5;241m=\u001b[39m \u001b[43mretries\u001b[49m\u001b[38;5;241;43m.\u001b[39;49m\u001b[43mincrement\u001b[49m\u001b[43m(\u001b[49m\n\u001b[0;32m    788\u001b[0m \u001b[43m    \u001b[49m\u001b[43mmethod\u001b[49m\u001b[43m,\u001b[49m\u001b[43m \u001b[49m\u001b[43murl\u001b[49m\u001b[43m,\u001b[49m\u001b[43m \u001b[49m\u001b[43merror\u001b[49m\u001b[38;5;241;43m=\u001b[39;49m\u001b[43me\u001b[49m\u001b[43m,\u001b[49m\u001b[43m \u001b[49m\u001b[43m_pool\u001b[49m\u001b[38;5;241;43m=\u001b[39;49m\u001b[38;5;28;43mself\u001b[39;49m\u001b[43m,\u001b[49m\u001b[43m \u001b[49m\u001b[43m_stacktrace\u001b[49m\u001b[38;5;241;43m=\u001b[39;49m\u001b[43msys\u001b[49m\u001b[38;5;241;43m.\u001b[39;49m\u001b[43mexc_info\u001b[49m\u001b[43m(\u001b[49m\u001b[43m)\u001b[49m\u001b[43m[\u001b[49m\u001b[38;5;241;43m2\u001b[39;49m\u001b[43m]\u001b[49m\n\u001b[0;32m    789\u001b[0m \u001b[43m\u001b[49m\u001b[43m)\u001b[49m\n\u001b[0;32m    790\u001b[0m retries\u001b[38;5;241m.\u001b[39msleep()\n",
      "File \u001b[1;32m~\\anaconda3\\envs\\myenv\\lib\\site-packages\\urllib3\\util\\retry.py:592\u001b[0m, in \u001b[0;36mRetry.increment\u001b[1;34m(self, method, url, response, error, _pool, _stacktrace)\u001b[0m\n\u001b[0;32m    591\u001b[0m \u001b[38;5;28;01mif\u001b[39;00m new_retry\u001b[38;5;241m.\u001b[39mis_exhausted():\n\u001b[1;32m--> 592\u001b[0m     \u001b[38;5;28;01mraise\u001b[39;00m MaxRetryError(_pool, url, error \u001b[38;5;129;01mor\u001b[39;00m ResponseError(cause))\n\u001b[0;32m    594\u001b[0m log\u001b[38;5;241m.\u001b[39mdebug(\u001b[38;5;124m\"\u001b[39m\u001b[38;5;124mIncremented Retry for (url=\u001b[39m\u001b[38;5;124m'\u001b[39m\u001b[38;5;132;01m%s\u001b[39;00m\u001b[38;5;124m'\u001b[39m\u001b[38;5;124m): \u001b[39m\u001b[38;5;132;01m%r\u001b[39;00m\u001b[38;5;124m\"\u001b[39m, url, new_retry)\n",
      "\u001b[1;31mMaxRetryError\u001b[0m: HTTPSConnectionPool(host='datasets.mojaglobal.workers.dev', port=443): Max retries exceeded with url: /0:/Bioclimatic&EcologicalZones/HoldridgeLifeZones.json (Caused by NewConnectionError('<urllib3.connection.HTTPSConnection object at 0x00000235D627A710>: Failed to establish a new connection: [Errno 11001] getaddrinfo failed'))",
      "\nDuring handling of the above exception, another exception occurred:\n",
      "\u001b[1;31mConnectionError\u001b[0m                           Traceback (most recent call last)",
      "Cell \u001b[1;32mIn [6], line 3\u001b[0m\n\u001b[0;32m      1\u001b[0m url \u001b[38;5;241m=\u001b[39m \u001b[38;5;124m'\u001b[39m\u001b[38;5;124mhttps://datasets.mojaglobal.workers.dev/0:/Bioclimatic&EcologicalZones/HoldridgeLifeZones.json\u001b[39m\u001b[38;5;124m'\u001b[39m\n\u001b[0;32m      2\u001b[0m bio \u001b[38;5;241m=\u001b[39m Read(url)\n\u001b[1;32m----> 3\u001b[0m \u001b[43mbio\u001b[49m\u001b[38;5;241;43m.\u001b[39;49m\u001b[43mretrieve_data\u001b[49m\u001b[43m(\u001b[49m\u001b[43mjson\u001b[49m\u001b[43m \u001b[49m\u001b[38;5;241;43m=\u001b[39;49m\u001b[43m \u001b[49m\u001b[38;5;28;43;01mTrue\u001b[39;49;00m\u001b[43m)\u001b[49m\n\u001b[0;32m      4\u001b[0m bio \u001b[38;5;241m=\u001b[39m bio\u001b[38;5;241m.\u001b[39mwrangle(online \u001b[38;5;241m=\u001b[39m \u001b[38;5;28;01mTrue\u001b[39;00m)\n\u001b[0;32m      6\u001b[0m \u001b[38;5;66;03m#filter forests\u001b[39;00m\n",
      "Cell \u001b[1;32mIn [2], line 43\u001b[0m, in \u001b[0;36mRead.retrieve_data\u001b[1;34m(self, json)\u001b[0m\n\u001b[0;32m     35\u001b[0m \u001b[38;5;28;01mdef\u001b[39;00m \u001b[38;5;21mretrieve_data\u001b[39m(\u001b[38;5;28mself\u001b[39m, json):\n\u001b[0;32m     36\u001b[0m     \u001b[38;5;124;03m\"\"\"fetches data from the internet\u001b[39;00m\n\u001b[0;32m     37\u001b[0m \u001b[38;5;124;03m     Parameters\u001b[39;00m\n\u001b[0;32m     38\u001b[0m \u001b[38;5;124;03m    ----------\u001b[39;00m\n\u001b[1;32m   (...)\u001b[0m\n\u001b[0;32m     41\u001b[0m \u001b[38;5;124;03m        If the file is of json format\u001b[39;00m\n\u001b[0;32m     42\u001b[0m \u001b[38;5;124;03m    \"\"\"\u001b[39;00m\n\u001b[1;32m---> 43\u001b[0m     \u001b[38;5;28mself\u001b[39m\u001b[38;5;241m.\u001b[39mreq \u001b[38;5;241m=\u001b[39m \u001b[43mrequests\u001b[49m\u001b[38;5;241;43m.\u001b[39;49m\u001b[43mget\u001b[49m\u001b[43m(\u001b[49m\u001b[38;5;28;43mself\u001b[39;49m\u001b[38;5;241;43m.\u001b[39;49m\u001b[43murl\u001b[49m\u001b[43m)\u001b[49m\n\u001b[0;32m     44\u001b[0m     \u001b[38;5;28;01mif\u001b[39;00m json:\n\u001b[0;32m     45\u001b[0m         \u001b[38;5;66;03m#if data is of json format, convert it to string\u001b[39;00m\n\u001b[0;32m     46\u001b[0m         \u001b[38;5;28mself\u001b[39m\u001b[38;5;241m.\u001b[39mreq \u001b[38;5;241m=\u001b[39m \u001b[38;5;28mstr\u001b[39m(\u001b[38;5;28mself\u001b[39m\u001b[38;5;241m.\u001b[39mreq\u001b[38;5;241m.\u001b[39mtext)\n",
      "File \u001b[1;32m~\\anaconda3\\envs\\myenv\\lib\\site-packages\\requests\\api.py:73\u001b[0m, in \u001b[0;36mget\u001b[1;34m(url, params, **kwargs)\u001b[0m\n\u001b[0;32m     62\u001b[0m \u001b[38;5;28;01mdef\u001b[39;00m \u001b[38;5;21mget\u001b[39m(url, params\u001b[38;5;241m=\u001b[39m\u001b[38;5;28;01mNone\u001b[39;00m, \u001b[38;5;241m*\u001b[39m\u001b[38;5;241m*\u001b[39mkwargs):\n\u001b[0;32m     63\u001b[0m     \u001b[38;5;124mr\u001b[39m\u001b[38;5;124;03m\"\"\"Sends a GET request.\u001b[39;00m\n\u001b[0;32m     64\u001b[0m \n\u001b[0;32m     65\u001b[0m \u001b[38;5;124;03m    :param url: URL for the new :class:`Request` object.\u001b[39;00m\n\u001b[1;32m   (...)\u001b[0m\n\u001b[0;32m     70\u001b[0m \u001b[38;5;124;03m    :rtype: requests.Response\u001b[39;00m\n\u001b[0;32m     71\u001b[0m \u001b[38;5;124;03m    \"\"\"\u001b[39;00m\n\u001b[1;32m---> 73\u001b[0m     \u001b[38;5;28;01mreturn\u001b[39;00m request(\u001b[38;5;124m\"\u001b[39m\u001b[38;5;124mget\u001b[39m\u001b[38;5;124m\"\u001b[39m, url, params\u001b[38;5;241m=\u001b[39mparams, \u001b[38;5;241m*\u001b[39m\u001b[38;5;241m*\u001b[39mkwargs)\n",
      "File \u001b[1;32m~\\anaconda3\\envs\\myenv\\lib\\site-packages\\requests\\api.py:59\u001b[0m, in \u001b[0;36mrequest\u001b[1;34m(method, url, **kwargs)\u001b[0m\n\u001b[0;32m     55\u001b[0m \u001b[38;5;66;03m# By using the 'with' statement we are sure the session is closed, thus we\u001b[39;00m\n\u001b[0;32m     56\u001b[0m \u001b[38;5;66;03m# avoid leaving sockets open which can trigger a ResourceWarning in some\u001b[39;00m\n\u001b[0;32m     57\u001b[0m \u001b[38;5;66;03m# cases, and look like a memory leak in others.\u001b[39;00m\n\u001b[0;32m     58\u001b[0m \u001b[38;5;28;01mwith\u001b[39;00m sessions\u001b[38;5;241m.\u001b[39mSession() \u001b[38;5;28;01mas\u001b[39;00m session:\n\u001b[1;32m---> 59\u001b[0m     \u001b[38;5;28;01mreturn\u001b[39;00m session\u001b[38;5;241m.\u001b[39mrequest(method\u001b[38;5;241m=\u001b[39mmethod, url\u001b[38;5;241m=\u001b[39murl, \u001b[38;5;241m*\u001b[39m\u001b[38;5;241m*\u001b[39mkwargs)\n",
      "File \u001b[1;32m~\\anaconda3\\envs\\myenv\\lib\\site-packages\\requests\\sessions.py:587\u001b[0m, in \u001b[0;36mSession.request\u001b[1;34m(self, method, url, params, data, headers, cookies, files, auth, timeout, allow_redirects, proxies, hooks, stream, verify, cert, json)\u001b[0m\n\u001b[0;32m    582\u001b[0m send_kwargs \u001b[38;5;241m=\u001b[39m {\n\u001b[0;32m    583\u001b[0m     \u001b[38;5;124m\"\u001b[39m\u001b[38;5;124mtimeout\u001b[39m\u001b[38;5;124m\"\u001b[39m: timeout,\n\u001b[0;32m    584\u001b[0m     \u001b[38;5;124m\"\u001b[39m\u001b[38;5;124mallow_redirects\u001b[39m\u001b[38;5;124m\"\u001b[39m: allow_redirects,\n\u001b[0;32m    585\u001b[0m }\n\u001b[0;32m    586\u001b[0m send_kwargs\u001b[38;5;241m.\u001b[39mupdate(settings)\n\u001b[1;32m--> 587\u001b[0m resp \u001b[38;5;241m=\u001b[39m \u001b[38;5;28mself\u001b[39m\u001b[38;5;241m.\u001b[39msend(prep, \u001b[38;5;241m*\u001b[39m\u001b[38;5;241m*\u001b[39msend_kwargs)\n\u001b[0;32m    589\u001b[0m \u001b[38;5;28;01mreturn\u001b[39;00m resp\n",
      "File \u001b[1;32m~\\anaconda3\\envs\\myenv\\lib\\site-packages\\requests\\sessions.py:701\u001b[0m, in \u001b[0;36mSession.send\u001b[1;34m(self, request, **kwargs)\u001b[0m\n\u001b[0;32m    698\u001b[0m start \u001b[38;5;241m=\u001b[39m preferred_clock()\n\u001b[0;32m    700\u001b[0m \u001b[38;5;66;03m# Send the request\u001b[39;00m\n\u001b[1;32m--> 701\u001b[0m r \u001b[38;5;241m=\u001b[39m adapter\u001b[38;5;241m.\u001b[39msend(request, \u001b[38;5;241m*\u001b[39m\u001b[38;5;241m*\u001b[39mkwargs)\n\u001b[0;32m    703\u001b[0m \u001b[38;5;66;03m# Total elapsed time of the request (approximately)\u001b[39;00m\n\u001b[0;32m    704\u001b[0m elapsed \u001b[38;5;241m=\u001b[39m preferred_clock() \u001b[38;5;241m-\u001b[39m start\n",
      "File \u001b[1;32m~\\anaconda3\\envs\\myenv\\lib\\site-packages\\requests\\adapters.py:565\u001b[0m, in \u001b[0;36mHTTPAdapter.send\u001b[1;34m(self, request, stream, timeout, verify, cert, proxies)\u001b[0m\n\u001b[0;32m    561\u001b[0m     \u001b[38;5;28;01mif\u001b[39;00m \u001b[38;5;28misinstance\u001b[39m(e\u001b[38;5;241m.\u001b[39mreason, _SSLError):\n\u001b[0;32m    562\u001b[0m         \u001b[38;5;66;03m# This branch is for urllib3 v1.22 and later.\u001b[39;00m\n\u001b[0;32m    563\u001b[0m         \u001b[38;5;28;01mraise\u001b[39;00m SSLError(e, request\u001b[38;5;241m=\u001b[39mrequest)\n\u001b[1;32m--> 565\u001b[0m     \u001b[38;5;28;01mraise\u001b[39;00m \u001b[38;5;167;01mConnectionError\u001b[39;00m(e, request\u001b[38;5;241m=\u001b[39mrequest)\n\u001b[0;32m    567\u001b[0m \u001b[38;5;28;01mexcept\u001b[39;00m ClosedPoolError \u001b[38;5;28;01mas\u001b[39;00m e:\n\u001b[0;32m    568\u001b[0m     \u001b[38;5;28;01mraise\u001b[39;00m \u001b[38;5;167;01mConnectionError\u001b[39;00m(e, request\u001b[38;5;241m=\u001b[39mrequest)\n",
      "\u001b[1;31mConnectionError\u001b[0m: HTTPSConnectionPool(host='datasets.mojaglobal.workers.dev', port=443): Max retries exceeded with url: /0:/Bioclimatic&EcologicalZones/HoldridgeLifeZones.json (Caused by NewConnectionError('<urllib3.connection.HTTPSConnection object at 0x00000235D627A710>: Failed to establish a new connection: [Errno 11001] getaddrinfo failed'))"
     ]
    }
   ],
   "source": [
    "url = 'https://datasets.mojaglobal.workers.dev/0:/Bioclimatic&EcologicalZones/HoldridgeLifeZones.json'\n",
    "bio = Read(url)\n",
    "bio.retrieve_data(json = True)\n",
    "bio = bio.wrangle(online = True)\n",
    "\n",
    "#filter forests\n",
    "a = bio['desc'].str.contains('forest')\n",
    "bio = bio[a].reset_index()\n",
    "\n",
    "bio.head(2)"
   ]
  },
  {
   "cell_type": "markdown",
   "id": "9a2a194a",
   "metadata": {},
   "source": [
    "##### Forests in the world"
   ]
  },
  {
   "cell_type": "code",
   "execution_count": null,
   "id": "6ff00640",
   "metadata": {
    "colab": {
     "base_uri": "https://localhost:8080/",
     "height": 719,
     "output_embedded_package_id": "1Bpnl1K65T9eOehZqttHCbVAlBSH5V5YJ"
    },
    "executionInfo": {
     "elapsed": 17249,
     "status": "ok",
     "timestamp": 1666095029553,
     "user": {
      "displayName": "Hafsah Anibaba",
      "userId": "01470588845528930260"
     },
     "user_tz": -60
    },
    "id": "6ff00640",
    "outputId": "8005b71c-c84d-46f3-9cf9-041deb3ad6da",
    "scrolled": true
   },
   "outputs": [],
   "source": [
    "folium_plot('Location of forests in the world', bio, 'desc')"
   ]
  },
  {
   "cell_type": "markdown",
   "id": "24279341",
   "metadata": {
    "id": "24279341"
   },
   "source": [
    "### I am interested in the Tropical dry forests\n",
    "\n",
    "<b> I want to view locations and boundaries of tropical dry forests in the world</b>"
   ]
  },
  {
   "cell_type": "code",
   "execution_count": null,
   "id": "fc9ab556",
   "metadata": {
    "colab": {
     "base_uri": "https://localhost:8080/",
     "height": 191
    },
    "executionInfo": {
     "elapsed": 649,
     "status": "ok",
     "timestamp": 1666103574134,
     "user": {
      "displayName": "Hafsah Anibaba",
      "userId": "01470588845528930260"
     },
     "user_tz": -60
    },
    "id": "fc9ab556",
    "outputId": "2a1fc1f0-0535-47cf-f111-9acf4807df4e",
    "scrolled": true
   },
   "outputs": [],
   "source": [
    "# subset tropical dry forest\n",
    "tropical_dry_forest = bio[bio['desc'] == 'Tropical dry forest']\n",
    "\n",
    "tropical_dry_forest.head(2)"
   ]
  },
  {
   "cell_type": "code",
   "execution_count": null,
   "id": "81203966",
   "metadata": {},
   "outputs": [],
   "source": [
    "#save file\n",
    "\n",
    "# forest = tropical_dry_forest.drop(['centroid'], axis = 1)\n",
    "# forest.to_file('data/ favourite_forest.geojson')"
   ]
  },
  {
   "cell_type": "code",
   "execution_count": null,
   "id": "9b8bc731",
   "metadata": {
    "scrolled": true
   },
   "outputs": [],
   "source": [
    "folium_plot('Location of Tropical forests in the world', tropical_dry_forest, 'desc')"
   ]
  },
  {
   "cell_type": "markdown",
   "id": "5efe7bf2",
   "metadata": {},
   "source": [
    "###### AgroEcological zones of forest"
   ]
  },
  {
   "cell_type": "code",
   "execution_count": null,
   "id": "20272e02",
   "metadata": {
    "colab": {
     "base_uri": "https://localhost:8080/",
     "height": 202
    },
    "executionInfo": {
     "elapsed": 28894,
     "status": "ok",
     "timestamp": 1666103606289,
     "user": {
      "displayName": "Hafsah Anibaba",
      "userId": "01470588845528930260"
     },
     "user_tz": -60
    },
    "id": "20272e02",
    "outputId": "2025103b-cc44-4ccb-ea7e-5215fd6ce613"
   },
   "outputs": [],
   "source": [
    "file_path = 'data/Bioclimatic and ecological zones/GlobalAgroEcologicalZones_GAEZ.geojson'\n",
    "\n",
    "\n",
    "agros = ['Steep terrain', 'Artic/Cold', 'Desert/Arid', 'Irrigated Soils', 'Hydromorphic soils', \n",
    " 'Dry, good soils', 'Dry, moderate soils', 'Dry, poor soils', 'Moist, good soils', \n",
    " 'Moist, moderate soils', 'Moist, poor soils', 'Sub-humid, good soils', 'Sub-humid, moderate soils', \n",
    " 'Sub-humid, poor soils', 'Humid, good soils', 'Humid, moderate soils', 'Humid, poor soils', 'Water']\n",
    "\n",
    "numb = [i for i in range(1, 19)]\n",
    "\n",
    "agroeco_df = Read(file_path)\n",
    "agroeco_df = agroeco_df.wrangle(replace_values = True, column_to_change = 'value',\n",
    "               old_values = numb, new_values = agros)\n",
    "agroeco_df.head(2)"
   ]
  },
  {
   "cell_type": "code",
   "execution_count": null,
   "id": "4fL5I3TNBUk2",
   "metadata": {
    "colab": {
     "base_uri": "https://localhost:8080/",
     "height": 470
    },
    "executionInfo": {
     "elapsed": 30401,
     "status": "ok",
     "timestamp": 1666103636623,
     "user": {
      "displayName": "Hafsah Anibaba",
      "userId": "01470588845528930260"
     },
     "user_tz": -60
    },
    "id": "4fL5I3TNBUk2",
    "outputId": "3e2c0968-c86e-4c9e-b699-ac1bce1ec228",
    "scrolled": false
   },
   "outputs": [],
   "source": [
    "plot_within(agroeco_df, 'value', \n",
    "            'locations of Tropical dryforests in black against their Agro ecological zones', 3)"
   ]
  },
  {
   "cell_type": "code",
   "execution_count": null,
   "id": "3a881e56",
   "metadata": {
    "scrolled": false
   },
   "outputs": [],
   "source": [
    "# filter the agroecological zones of tropical dry forests\n",
    "plot_number(agroeco_df, 'value', \n",
    "            'counts of agroecological zones where tropical dry forests are located')"
   ]
  },
  {
   "cell_type": "markdown",
   "id": "7eff2182",
   "metadata": {},
   "source": [
    "<b>from the visualisations above, the agroecological zones of the tropical forests are mostly subhumid soils</b>"
   ]
  },
  {
   "cell_type": "markdown",
   "id": "5c0abf4c",
   "metadata": {},
   "source": [
    "###### Terrestial Ecoregions"
   ]
  },
  {
   "cell_type": "code",
   "execution_count": null,
   "id": "dba26b8d",
   "metadata": {},
   "outputs": [],
   "source": [
    "biomes = ['Tropical and subtropical moist broadleaf forests', 'Tropical and subtropical dry broadleaf forests',\n",
    "'Tropical and subtropical coniferous forests', 'Temperate broadleaf and mixed forests'\n",
    "'Temperate coniferous forests', 'Boreal forests/taiga', 'Tropical and subtropical grasslands', \n",
    "'savannas, and shrublands', 'Temperate grasslands, savannas, and shrublands',\n",
    "'Flooded grasslands and savannas', 'Montane grasslands and shrublands', 'Tundra (Arctic)',\n",
    "'Mediterranean forests, woodlands, and scrub or sclerophyll forests',\n",
    "'Deserts and xeric shrublands','Mangrove']\n",
    "initial = [i for i in range(1, 15)]"
   ]
  },
  {
   "cell_type": "code",
   "execution_count": null,
   "id": "cb724468",
   "metadata": {
    "scrolled": true
   },
   "outputs": [],
   "source": [
    "# It has null values so using the read class will drop all rows\n",
    "\n",
    "columns = ['eco_name', 'biome', 'geometry']\n",
    "file_path = 'data/Bioclimatic and ecological zones/TerrestrialEcoregionsoftheWorld_WWF.geojson'\n",
    "terreco_df = Read(file_path, columns)\n",
    "terreco_df = terreco_df.wrangle(replace_values = True, column_to_change = 'biome',\n",
    "               old_values = initial, new_values = biomes, filter_columns = True)\n",
    "terreco_df.head(2)"
   ]
  },
  {
   "cell_type": "code",
   "execution_count": null,
   "id": "17f4a048",
   "metadata": {},
   "outputs": [],
   "source": [
    "#save file\n",
    "\n",
    "fav_forest = terreco[terreco['biome'] == 'Tropical and subtropical moist broadleaf forests']\n",
    "fav_forest = fav_forest.drop(['centroid'], axis = 1)\n",
    "fav_forest.to_file('data/forest.geojson')"
   ]
  },
  {
   "cell_type": "code",
   "execution_count": null,
   "id": "1c1499d1",
   "metadata": {},
   "outputs": [],
   "source": [
    "terreco = gpd.clip(terreco_df, tropical_dry_forest)\n",
    "folium_plot('Biomes of tropical dry forests in the world', terreco, 'biome')"
   ]
  },
  {
   "cell_type": "code",
   "execution_count": null,
   "id": "b86a7dfa",
   "metadata": {},
   "outputs": [],
   "source": [
    "plot_number(terreco_df, 'biome', 'counts of Biomes of tropical dry forests')"
   ]
  },
  {
   "cell_type": "markdown",
   "id": "c337c5eb",
   "metadata": {},
   "source": [
    "<b> From the visualisations, most of the tropical dry forests are Tropical and subtropical moist broadleaf forests, Mangrove, Savannas and shrublands"
   ]
  },
  {
   "cell_type": "markdown",
   "id": "f19429ab",
   "metadata": {},
   "source": [
    "###### Climate"
   ]
  },
  {
   "cell_type": "code",
   "execution_count": null,
   "id": "94f6bc08",
   "metadata": {},
   "outputs": [],
   "source": [
    "climates = ['Warm Temperate Moist', 'Warm Temperate Dry', 'Cool Temperate Moist', 'Cool Temperate Dry', \n",
    "'Polar Moist', 'Polar Dry', 'Boreal Moist', 'Boreal Dry', 'Tropical Montane', 'Tropical wet',\n",
    " 'Tropical Moist', 'Tropical Dry']\n",
    "\n",
    "numbers = [i for i in range(1, 13)]"
   ]
  },
  {
   "cell_type": "code",
   "execution_count": null,
   "id": "eGgl7Bxeg8Yx",
   "metadata": {
    "colab": {
     "base_uri": "https://localhost:8080/",
     "height": 201
    },
    "executionInfo": {
     "elapsed": 8541,
     "status": "ok",
     "timestamp": 1666023199392,
     "user": {
      "displayName": "Hafsah Anibaba",
      "userId": "01470588845528930260"
     },
     "user_tz": -60
    },
    "id": "eGgl7Bxeg8Yx",
    "outputId": "29bd418f-d2f9-4476-ce7f-981fdaba43fc"
   },
   "outputs": [],
   "source": [
    "url = 'data/climate/IPCC_ClimateZoneMap_Vector.geojson'\n",
    "\n",
    "climate = Read(url)\n",
    "climate = climate.wrangle(replace_values = True, column_to_change = 'class_name',\n",
    "               old_values = numbers, new_values = climates)\n",
    "climate.head(2)\n"
   ]
  },
  {
   "cell_type": "code",
   "execution_count": null,
   "id": "6M7ONz0hhCXQ",
   "metadata": {
    "colab": {
     "base_uri": "https://localhost:8080/",
     "height": 372
    },
    "executionInfo": {
     "elapsed": 10691,
     "status": "ok",
     "timestamp": 1666023082783,
     "user": {
      "displayName": "Hafsah Anibaba",
      "userId": "01470588845528930260"
     },
     "user_tz": -60
    },
    "id": "6M7ONz0hhCXQ",
    "outputId": "78596d06-c78d-4080-a866-633ab83c1408",
    "scrolled": true
   },
   "outputs": [],
   "source": [
    "plot_within(climate, 'class_name', \n",
    "            'locations of Subtropcal dryforests in black against their climate', 2)"
   ]
  },
  {
   "cell_type": "markdown",
   "id": "9416f3b8",
   "metadata": {},
   "source": [
    "<b>As expected the forests fall within the tropical climate zones"
   ]
  },
  {
   "cell_type": "markdown",
   "id": "49a19af6",
   "metadata": {
    "id": "49a19af6"
   },
   "source": [
    "###### Soil"
   ]
  },
  {
   "cell_type": "code",
   "execution_count": null,
   "id": "a90ac451",
   "metadata": {
    "id": "a90ac451",
    "outputId": "9e5d1417-c834-469b-8b11-f9692d340b9e"
   },
   "outputs": [],
   "source": [
    "url = 'https://datasets.mojaglobal.workers.dev/0:/Soil/World%20Soil%20Resources/World_Soil_Resources_wgs84.geojson'\n",
    "\n",
    "soil_resource = Read(url)\n",
    "soil_resource.retrieve_data(json = True)\n",
    "soil_resource = soil_resource.wrangle(online = True)# to read area_geo\n",
    "\n",
    "\n",
    "soil_resource.head(2)"
   ]
  },
  {
   "cell_type": "code",
   "execution_count": null,
   "id": "0fb568a8",
   "metadata": {
    "id": "0fb568a8",
    "outputId": "67f604e3-ec1e-4113-deda-c4f64b1ae90f",
    "scrolled": true
   },
   "outputs": [],
   "source": [
    "plot_within(soil_resource, 'ipcc', \n",
    "            'locations of  tropival dryforests in black on soil resource', 4)"
   ]
  },
  {
   "cell_type": "markdown",
   "id": "11106890",
   "metadata": {
    "id": "a5be497c"
   },
   "source": [
    "<b> The forests are of different soil types in different locations</b>"
   ]
  },
  {
   "cell_type": "markdown",
   "id": "f4e9361a",
   "metadata": {},
   "source": [
    "###### Water scarcity"
   ]
  },
  {
   "cell_type": "code",
   "execution_count": null,
   "id": "92869aa2",
   "metadata": {},
   "outputs": [],
   "source": [
    "def plot_tiffs(path, cmap, title):\n",
    "    img = rst.open(path)\n",
    "    img_ = img.read()\n",
    "    plot_ext = rst.plot.plotting_extent(img)\n",
    "    fig, ax = plt.subplots()\n",
    "    ep.plot.plot_bands(img_,\n",
    "                  title= title,\n",
    "                  cmap= cmap, ax = ax, extent = plot_ext)\n",
    "    tropical_dry_forest.plot(ax = ax, color = 'red')\n",
    "\n",
    "    plt.show()"
   ]
  },
  {
   "cell_type": "code",
   "execution_count": null,
   "id": "699a29a7",
   "metadata": {
    "scrolled": false
   },
   "outputs": [],
   "source": [
    "rst_water = r'data/Bioclimatic and ecological zones/WaterScarcity_GAEZ.tif'\n",
    "plot_tiffs(rst_water, 'pink', 'water scarcity zones')"
   ]
  },
  {
   "cell_type": "markdown",
   "id": "51f0cf41",
   "metadata": {},
   "source": [
    "<b>Land resource dominant cover"
   ]
  },
  {
   "cell_type": "code",
   "execution_count": null,
   "id": "390284a7",
   "metadata": {
    "scrolled": true
   },
   "outputs": [],
   "source": [
    "rst_dom = r'data/Bioclimatic and ecological zones/LandResource_DomLandCover_GAEZ.tif'\n",
    "plot_tiffs(rst_dom, 'pink', 'dominant cover')"
   ]
  },
  {
   "cell_type": "markdown",
   "id": "2decb871",
   "metadata": {},
   "source": [
    "<b> Soil Resource Nutrient Avilability </b>"
   ]
  },
  {
   "cell_type": "code",
   "execution_count": null,
   "id": "b0d81b21",
   "metadata": {},
   "outputs": [],
   "source": [
    "nutrient = r'data/Bioclimatic and ecological zones/SoilResources_NutrientAvailability_GAEZ.tif'\n",
    "plot_tiffs(nutrient, 'pink', 'soil nutrients')"
   ]
  },
  {
   "cell_type": "markdown",
   "id": "171d368a",
   "metadata": {},
   "source": [
    "<b> Terrain sustainability</b>"
   ]
  },
  {
   "cell_type": "code",
   "execution_count": null,
   "id": "cc7e1235",
   "metadata": {},
   "outputs": [],
   "source": [
    "terrsuit = r'data/Bioclimatic and ecological zones/SoilResources_RainfedSoilTerrainSuitability_GAEZ.tif'\n",
    "plot_tiffs(terrsuit, 'pink', 'terrain suitability')"
   ]
  },
  {
   "cell_type": "markdown",
   "id": "ee43bdf5",
   "metadata": {},
   "source": [
    "<b> Rooting conditions </b>"
   ]
  },
  {
   "cell_type": "code",
   "execution_count": null,
   "id": "1a0775ef",
   "metadata": {},
   "outputs": [],
   "source": [
    "rst_root = r'data/Bioclimatic and ecological zones/SoilResources_RootingConditions_GAEZ.tif'\n",
    "plot_tiffs(rst_root, 'pink', 'rooting conditions')"
   ]
  },
  {
   "cell_type": "code",
   "execution_count": null,
   "id": "52977746",
   "metadata": {},
   "outputs": [],
   "source": []
  }
 ],
 "metadata": {
  "colab": {
   "provenance": []
  },
  "kernelspec": {
   "display_name": "Python [conda env:myenv]",
   "language": "python",
   "name": "conda-env-myenv-py"
  },
  "language_info": {
   "codemirror_mode": {
    "name": "ipython",
    "version": 3
   },
   "file_extension": ".py",
   "mimetype": "text/x-python",
   "name": "python",
   "nbconvert_exporter": "python",
   "pygments_lexer": "ipython3",
   "version": "3.10.6"
  }
 },
 "nbformat": 4,
 "nbformat_minor": 5
}
